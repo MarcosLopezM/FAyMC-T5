{
 "cells": [
  {
   "cell_type": "markdown",
   "metadata": {},
   "source": [
    "# Tarea 4: Física de Materia Condensada"
   ]
  },
  {
   "cell_type": "markdown",
   "metadata": {},
   "source": [
    "## Problema 2: Velocidades en el Modelo de Electrones Libres"
   ]
  },
  {
   "cell_type": "markdown",
   "metadata": {},
   "source": [
    "### Inciso b): Alambre de cobre"
   ]
  },
  {
   "cell_type": "markdown",
   "metadata": {},
   "source": [
    "#### Velocidad de arrastre y velocidad de Fermi"
   ]
  },
  {
   "cell_type": "code",
   "execution_count": 6,
   "metadata": {},
   "outputs": [],
   "source": [
    "import numpy as np"
   ]
  },
  {
   "cell_type": "code",
   "execution_count": 2,
   "metadata": {},
   "outputs": [],
   "source": [
    "electron_charge = 1.6e-19"
   ]
  },
  {
   "cell_type": "code",
   "execution_count": 4,
   "metadata": {},
   "outputs": [],
   "source": [
    "def drift_speed(density, conductivity, electric_field):\n",
    "    return (conductivity * electric_field) / (density * electron_charge)"
   ]
  },
  {
   "cell_type": "code",
   "execution_count": 5,
   "metadata": {},
   "outputs": [
    {
     "name": "stdout",
     "output_type": "stream",
     "text": [
      "0.004363905325443788\n"
     ]
    }
   ],
   "source": [
    "copper_conductivity = 5.9e7\n",
    "electric_field = 1\n",
    "copper_density = 8.45e28\n",
    "\n",
    "copper_drift_speed = drift_speed(copper_density, copper_conductivity, electric_field)\n",
    "print(copper_drift_speed)"
   ]
  },
  {
   "cell_type": "code",
   "execution_count": 29,
   "metadata": {},
   "outputs": [],
   "source": [
    "hbar = 1.054e-34 # J*s\n",
    "m_e = 9.109e-31 # kg\n",
    "\n",
    "def fermi_speed(density):\n",
    "    return (hbar / m_e) * np.cbrt(3 * (np.pi ** 2) * density)"
   ]
  },
  {
   "cell_type": "code",
   "execution_count": 30,
   "metadata": {},
   "outputs": [],
   "source": [
    "fermi_speed_copper = fermi_speed(copper_density)"
   ]
  },
  {
   "cell_type": "code",
   "execution_count": 31,
   "metadata": {},
   "outputs": [
    {
     "name": "stdout",
     "output_type": "stream",
     "text": [
      "1570829.848957358\n",
      "1570829.8489573558\n"
     ]
    }
   ],
   "source": [
    "print(fermi_speed_copper)\n",
    "print((hbar / m_e) * (3 * (np.pi ** 2) * copper_density) ** (1/3))"
   ]
  },
  {
   "cell_type": "markdown",
   "metadata": {},
   "source": [
    "#### Magnitud del campo eléctrico"
   ]
  },
  {
   "cell_type": "code",
   "execution_count": 35,
   "metadata": {},
   "outputs": [],
   "source": [
    "def electric_field(fermi_speed, density, charge, conductivity):\n",
    "    return fermi_speed * (density * charge) / conductivity"
   ]
  },
  {
   "cell_type": "code",
   "execution_count": 36,
   "metadata": {},
   "outputs": [],
   "source": [
    "electric_field_equal = electric_field(fermi_speed_copper, copper_density, electron_charge, copper_conductivity)"
   ]
  },
  {
   "cell_type": "code",
   "execution_count": 37,
   "metadata": {},
   "outputs": [
    {
     "name": "stdout",
     "output_type": "stream",
     "text": [
      "359959653.52378774\n"
     ]
    }
   ],
   "source": [
    "print(electric_field_equal)"
   ]
  },
  {
   "cell_type": "markdown",
   "metadata": {},
   "source": [
    "#### Camino libre medio"
   ]
  },
  {
   "cell_type": "code",
   "execution_count": 32,
   "metadata": {},
   "outputs": [],
   "source": [
    "def mean_free_path(conductivity, fermi_speed, density, mass):\n",
    "    return fermi_speed * ((conductivity * mass) / (density * electron_charge**2))"
   ]
  },
  {
   "cell_type": "code",
   "execution_count": 33,
   "metadata": {},
   "outputs": [],
   "source": [
    "mean_free_path_copper = mean_free_path(copper_conductivity, fermi_speed_copper,copper_density, m_e)"
   ]
  },
  {
   "cell_type": "code",
   "execution_count": 34,
   "metadata": {},
   "outputs": [
    {
     "name": "stdout",
     "output_type": "stream",
     "text": [
      "3.9026102836307413e-08\n"
     ]
    }
   ],
   "source": [
    "print(mean_free_path_copper)"
   ]
  },
  {
   "cell_type": "code",
   "execution_count": null,
   "metadata": {},
   "outputs": [],
   "source": []
  }
 ],
 "metadata": {
  "kernelspec": {
   "display_name": ".venv",
   "language": "python",
   "name": "python3"
  },
  "language_info": {
   "codemirror_mode": {
    "name": "ipython",
    "version": 3
   },
   "file_extension": ".py",
   "mimetype": "text/x-python",
   "name": "python",
   "nbconvert_exporter": "python",
   "pygments_lexer": "ipython3",
   "version": "3.12.0"
  }
 },
 "nbformat": 4,
 "nbformat_minor": 2
}
